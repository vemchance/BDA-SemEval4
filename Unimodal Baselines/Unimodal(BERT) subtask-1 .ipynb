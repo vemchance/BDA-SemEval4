{
 "cells": [
  {
   "cell_type": "code",
   "execution_count": 374,
   "id": "7f9ae242",
   "metadata": {
    "scrolled": true
   },
   "outputs": [
    {
     "name": "stdout",
     "output_type": "stream",
     "text": [
      "Number of Unique Labels: 20\n",
      "Label Names: {'Slogans', \"Misrepresentation of Someone's Position (Straw Man)\", 'Exaggeration/Minimisation', 'Whataboutism', 'Name calling/Labeling', 'Causal Oversimplification', 'Doubt', 'Black-and-white Fallacy/Dictatorship', 'Appeal to fear/prejudice', 'Reductio ad hitlerum', 'Flag-waving', 'Bandwagon', 'Presenting Irrelevant Data (Red Herring)', 'Glittering generalities (Virtue)', 'Thought-terminating cliché', 'Appeal to authority', 'Smears', 'Loaded Language', 'Obfuscation, Intentional vagueness, Confusion', 'Repetition'}\n"
     ]
    }
   ],
   "source": [
    "import json\n",
    "import numpy as np\n",
    "\n",
    "json_file_path = '/Users/jamessmith/Desktop/Desktop/SemEval_Task/data/subtask1/train.json'\n",
    "\n",
    "# Swap the file opening and data loading statements\n",
    "with open(json_file_path, 'r', encoding='utf-8') as file:\n",
    "    data = json.load(file)\n",
    "\n",
    "labels = [sample.get(\"labels\", []) for sample in data]\n",
    "\n",
    "# lists to get all labels\n",
    "all_labels = [label for sublist in labels for label in sublist]\n",
    "\n",
    "num_unique_labels = len(set(all_labels))\n",
    "print(f\"Number of Unique Labels: {num_unique_labels}\")\n",
    "print(\"Label Names:\", set(all_labels))"
   ]
  },
  {
   "cell_type": "code",
   "execution_count": 395,
   "id": "3fc9e2d2",
   "metadata": {
    "scrolled": true
   },
   "outputs": [
    {
     "name": "stderr",
     "output_type": "stream",
     "text": [
      "Some weights of the PyTorch model were not used when initializing the TF 2.0 model TFBertModel: ['cls.predictions.bias', 'cls.predictions.transform.dense.bias', 'cls.predictions.transform.LayerNorm.bias', 'cls.seq_relationship.weight', 'cls.predictions.transform.dense.weight', 'cls.predictions.transform.LayerNorm.weight', 'cls.seq_relationship.bias']\n",
      "- This IS expected if you are initializing TFBertModel from a PyTorch model trained on another task or with another architecture (e.g. initializing a TFBertForSequenceClassification model from a BertForPreTraining model).\n",
      "- This IS NOT expected if you are initializing TFBertModel from a PyTorch model that you expect to be exactly identical (e.g. initializing a TFBertForSequenceClassification model from a BertForSequenceClassification model).\n",
      "All the weights of TFBertModel were initialized from the PyTorch model.\n",
      "If your task is similar to the task the model of the checkpoint was trained on, you can already use TFBertModel for predictions without further training.\n"
     ]
    }
   ],
   "source": [
    "from sklearn.model_selection import train_test_split\n",
    "from sklearn.preprocessing import MultiLabelBinarizer\n",
    "from transformers import BertTokenizer, TFBertModel\n",
    "from tensorflow.keras.models import Model\n",
    "from tensorflow.keras.layers import Input, Dense, GlobalAveragePooling1D\n",
    "import tensorflow as tf\n",
    "from tensorflow.keras.utils import to_categorical\n",
    "import matplotlib.pyplot as plt\n",
    "from sklearn.utils.class_weight import compute_class_weight\n",
    "from sklearn.metrics import precision_recall_fscore_support, classification_report\n",
    "\n",
    "class MemeClassification:\n",
    "    def __init__(self, label_tree):\n",
    "        self.label_tree = label_tree\n",
    "        self.label_binarizer = None\n",
    "        self.tokenizer = BertTokenizer.from_pretrained('bert-base-uncased')\n",
    "        self.bert_model = TFBertModel.from_pretrained('bert-base-uncased')\n",
    "        self.model = None\n",
    "\n",
    "    def load_data(self, json_file_path):\n",
    "        with open(json_file_path, 'r', encoding='utf-8') as file:\n",
    "            data = json.load(file)\n",
    "        return data\n",
    "\n",
    "    def preprocess_data(self, data):\n",
    "        texts = [sample[\"text\"] for sample in data]\n",
    "        labels = [sample.get(\"labels\", []) for sample in data]\n",
    "        \n",
    "        #checks if labels are empty and assign a default label \n",
    "        default_label = ['None']  \n",
    "        labels = [label if label else default_label for label in labels]\n",
    "\n",
    "        #converting labels to one hot encoded\n",
    "        if any(isinstance(label, list) for label in labels):\n",
    "            self.label_binarizer = MultiLabelBinarizer()\n",
    "            y = self.label_binarizer.fit_transform(labels)\n",
    "        else:\n",
    "            y = np.array(labels)\n",
    "        return texts, y\n",
    "\n",
    "    def tokenize_and_pad(self, texts):\n",
    "        input_ids = []\n",
    "        attention_masks = []\n",
    "\n",
    "        for text in texts:\n",
    "            encoded_text = self.tokenizer(text, max_length=128, truncation=True, padding='max_length', return_tensors='tf')\n",
    "            input_ids.append(encoded_text['input_ids'])\n",
    "            attention_masks.append(encoded_text['attention_mask'])\n",
    "\n",
    "        input_ids = np.concatenate(input_ids, axis=0)\n",
    "        attention_masks = np.concatenate(attention_masks, axis=0)\n",
    "\n",
    "        return input_ids, attention_masks\n",
    "\n",
    "    def build_model(self, num_classes=21):\n",
    "        input_ids_input = Input(shape=(128,), dtype=tf.int32, name=\"input_ids\")\n",
    "        attention_masks_input = Input(shape=(128,), dtype=tf.int32, name=\"attention_masks\")\n",
    "\n",
    "        bert_output = self.bert_model(input_ids_input, attention_mask=attention_masks_input)[0]\n",
    "        pooled_output = GlobalAveragePooling1D()(bert_output)\n",
    "        output_layer = Dense(num_classes, activation='sigmoid')(pooled_output)\n",
    "\n",
    "        self.model = Model(inputs=[input_ids_input, attention_masks_input], outputs=output_layer)\n",
    "        self.model.compile(optimizer='adam', loss='binary_crossentropy', metrics=['accuracy'])\n",
    "\n",
    "    def train_model(self, json_file_path, num_classes=21, epochs=3, batch_size=8, test_size=0.2, random_state=42):\n",
    "        data = self.load_data(json_file_path)\n",
    "        texts, y = self.preprocess_data(data)\n",
    "        input_ids, attention_masks = self.tokenize_and_pad(texts)\n",
    "\n",
    "        # Split the data\n",
    "        X_train, X_temp, y_train, y_temp, attention_masks_train, attention_masks_temp = train_test_split(\n",
    "            input_ids, y, attention_masks, test_size=test_size, random_state=random_state\n",
    "        )\n",
    "\n",
    "        X_val, X_test, y_val, y_test, attention_masks_val, attention_masks_test = train_test_split(\n",
    "            X_temp, y_temp, attention_masks_temp, test_size=0.5, random_state=random_state\n",
    "        )\n",
    "        \n",
    "        print(\"Shapes:\")\n",
    "        print(\"X_train:\", X_train.shape)\n",
    "        print(\"y_train:\", y_train.shape)\n",
    "        print(\"X_val:\", X_val.shape)\n",
    "        print(\"y_val:\", y_val.shape)\n",
    "        \n",
    "        # Build and compile the model\n",
    "        self.build_model(num_classes)\n",
    "        \n",
    "        # Train the model\n",
    "        history = self.model.fit(\n",
    "            [X_train, attention_masks_train],\n",
    "            y_train,\n",
    "            epochs=epochs,\n",
    "            batch_size=batch_size,\n",
    "            validation_data=([X_val, attention_masks_val], y_val),\n",
    "        )\n",
    "        \n",
    "        return history, X_test, attention_masks_test, y_test\n",
    "    \n",
    "    def plot_training_history(self, history):\n",
    "        plt.figure(figsize=(10, 4))\n",
    "        \n",
    "        #plot accuracy\n",
    "        plt.subplot(1, 2, 1)\n",
    "        plt.plot(history.history['accuracy'])\n",
    "        plt.plot(history.history['val_accuracy'])\n",
    "        plt.title('Model accuracy')\n",
    "        plt.xlabel('Epoch')\n",
    "        plt.ylabel('Accuracy')\n",
    "        plt.legend(['Train', 'Validation'], loc='upper left')\n",
    "\n",
    "        #plot loss \n",
    "        plt.subplot(1, 2, 2)\n",
    "        plt.plot(history.history['loss'])\n",
    "        plt.plot(history.history['val_loss'])\n",
    "        plt.title('Model loss')\n",
    "        plt.xlabel('Epoch')\n",
    "        plt.ylabel('Loss')\n",
    "        plt.legend(['Train', 'Validation'], loc='upper left')\n",
    "        \n",
    "        plt.tight_layout()\n",
    "        plt.show()      \n",
    "\n",
    "\n",
    "    def calculate_hierarchy_distance(self, node1, node2):\n",
    "        # Check if the nodes are leaf nodes\n",
    "        if node1 not in self.label_tree or node2 not in self.label_tree:\n",
    "            return None\n",
    "\n",
    "        # Find ancestors of each leaf node\n",
    "        ancestors1 = set()\n",
    "        current_node = node1\n",
    "        while current_node:\n",
    "            ancestors1.add(current_node)\n",
    "            current_node = next((parent for parent, children in self.label_tree.items() if current_node in children), None)\n",
    "\n",
    "        ancestors2 = set()\n",
    "        current_node = node2\n",
    "        while current_node:\n",
    "            ancestors2.add(current_node)\n",
    "            current_node = next((parent for parent, children in self.label_tree.items() if current_node in children), None)\n",
    "\n",
    "        # Find common ancestors\n",
    "        common_ancestors = ancestors1.intersection(ancestors2)\n",
    "\n",
    "        # Distance based on levels\n",
    "        distance = len(ancestors1) + len(ancestors2) - 2 * len(common_ancestors)\n",
    "\n",
    "        return distance\n",
    "\n",
    "    def evaluate_with_hierarchy(self, X_test, attention_masks_test, y_test):\n",
    "        print(\"X_test:\", X_test.shape)\n",
    "        print(\"y_test:\", y_test.shape)\n",
    "\n",
    "        predictions = self.model.predict([X_test, attention_masks_test])\n",
    "\n",
    "        total_precision = 0.0\n",
    "        total_recall = 0.0\n",
    "        total_samples = len(y_test)\n",
    "\n",
    "        predicted_labels_all = []\n",
    "        true_labels_all = []\n",
    "\n",
    "        for i in range(total_samples):\n",
    "            predicted_probabilities = predictions[i]\n",
    "\n",
    "            #decoding predicted labels\n",
    "            predicted_labels = [self.label_binarizer.classes_[j] for j in range(len(self.label_binarizer.classes_)) if\n",
    "                                predicted_probabilities[j] > 0.5]\n",
    "            gold_labels = [self.label_binarizer.classes_[j] for j in range(len(self.label_binarizer.classes_)) if\n",
    "                           y_test[i][j] == 1]\n",
    "\n",
    "            #predicted and true labels' lists\n",
    "            predicted_labels_all.append(predicted_labels)\n",
    "            true_labels_all.append(gold_labels)\n",
    "            \n",
    "            # Convert the lists to binary arrays\n",
    "            mlb = MultiLabelBinarizer()\n",
    "            true_labels_all_binary = mlb.fit_transform(true_labels_all)\n",
    "            predicted_labels_all_binary = mlb.transform(predicted_labels_all)\n",
    "            \n",
    "        ##calculation of the hierarchical_f1\n",
    "\n",
    "            #checks if the prediction is a leaf node and is the correct label\n",
    "            if set(predicted_labels).issubset(set(gold_labels)):\n",
    "                reward = 1.0  # Full reward\n",
    "            elif any(\n",
    "                    self.calculate_hierarchy_distance(predicted_label, gold_label) > 0 for predicted_label in\n",
    "                    predicted_labels for gold_label in gold_labels):\n",
    "                reward = 0.5  # Partial reward\n",
    "            else:\n",
    "                reward = 0.0  # Null reward\n",
    "\n",
    "            #total_precision andtotal_recall on reward\n",
    "            total_precision += reward\n",
    "            total_recall += reward\n",
    "\n",
    "        #average metrics\n",
    "        average_precision = total_precision / total_samples\n",
    "        average_recall = total_recall / total_samples\n",
    "\n",
    "        #hierarchical F1\n",
    "        hierarchical_f1 = 2 * (average_precision * average_recall) / (average_precision + average_recall) if (\n",
    "                average_precision + average_recall) != 0 else 0.0\n",
    "    \n",
    "        print(\"Classification Report:\")\n",
    "        print(classification_report(true_labels_all_binary, predicted_labels_all_binary, target_names=mlb.classes_))  # Update target_names\n",
    "\n",
    "        return hierarchical_f1, predicted_labels_all, true_labels_all\n",
    "\n",
    "#hierarchical tree\n",
    "#the assigned number are hypothetically\n",
    "label_tree = {\n",
    "    'Persuasion': {\n",
    "        'Pathos': {\n",
    "            'Appeal to Emotion(visual)': 1,\n",
    "            'Exaggeration/Minimisation': 2,\n",
    "            'Loaded Language': 3,\n",
    "            'Flag waving': 4,\n",
    "            'Appeal to fear/prejudice': 5,\n",
    "            'Transfer': 6\n",
    "        },\n",
    "        'Ethos': {\n",
    "            'Transfer': 6,\n",
    "            'Glittering generalities': 7,\n",
    "            'Appeal to authority': 8,\n",
    "            'Bandwagon': 9,\n",
    "            'Ad Hominem': {\n",
    "                'Name calling/Labelling': 10,\n",
    "                'Doubt': 11,\n",
    "                'Smears': 12,\n",
    "                'Reduction and Hitlerium': 13,\n",
    "                'Whataboutism': 14\n",
    "            }\n",
    "        },\n",
    "        'Logos': {\n",
    "            'Repetition': 15,\n",
    "            'Obfuscation, Intentional vagueness, Confusion': 16,\n",
    "            'Justification': {\n",
    "                'Flag waving': 4,\n",
    "                'Appeal to fear/prejudice': 5,\n",
    "                'Appeal to Authority': 8,\n",
    "                'Bandwagon': 9,\n",
    "                'Slogans': 17\n",
    "            },\n",
    "            'Reasoning': {\n",
    "                'Distraction': {\n",
    "                    'Whataboutism': 14,\n",
    "                    'Presenting Irrelevant Data (Red Herring)': 18,\n",
    "                    'Straw Man': 19\n",
    "                },\n",
    "                'Simplification': {\n",
    "                    'Black-and-white Fallacy/Dictatorship': 20,\n",
    "                    'Casual Oversimplification': 21,\n",
    "                    'Thought-terminating cliché': 22\n",
    "                }\n",
    "            }\n",
    "        },\n",
    "        'None': 23 # a label for empty samples\n",
    "    }\n",
    "}\n",
    "\n",
    "json_file_path = '/Users/jamessmith/Desktop/Desktop/SemEval_Task/data/subtask1/train.json'\n",
    "\n",
    "meme_classifier = MemeClassification(label_tree)"
   ]
  },
  {
   "cell_type": "code",
   "execution_count": 396,
   "id": "8abaf618",
   "metadata": {},
   "outputs": [
    {
     "name": "stdout",
     "output_type": "stream",
     "text": [
      "Loaded Data: [{'id': '65635', 'text': 'THIS IS WHY YOU NEED\\\\n\\\\nA SHARPIE WITH YOU AT ALL TIMES', 'labels': ['Black-and-white Fallacy/Dictatorship'], 'link': 'https://www.facebook.com/photo/?fbid=4023552137722493&set=g.633131750534436'}]\n"
     ]
    }
   ],
   "source": [
    "data = meme_classifier.load_data(json_file_path)\n",
    "print(\"Loaded Data:\", data[:1])"
   ]
  },
  {
   "cell_type": "code",
   "execution_count": 397,
   "id": "e310f633",
   "metadata": {},
   "outputs": [
    {
     "name": "stdout",
     "output_type": "stream",
     "text": [
      "Processed Texts: ['THIS IS WHY YOU NEED\\\\n\\\\nA SHARPIE WITH YOU AT ALL TIMES']\n",
      "Processed Labels: [[0 0 0 1 0 0 0 0 0 0 0 0 0 0 0 0 0 0 0 0 0]]\n"
     ]
    }
   ],
   "source": [
    "texts, y = meme_classifier.preprocess_data(data)\n",
    "print(\"Processed Texts:\", texts[:1]) \n",
    "print(\"Processed Labels:\", y[:1])  "
   ]
  },
  {
   "cell_type": "code",
   "execution_count": 398,
   "id": "4b54f002",
   "metadata": {
    "scrolled": true
   },
   "outputs": [
    {
     "name": "stdout",
     "output_type": "stream",
     "text": [
      "Tokenized Input IDs: (7000, 128)\n",
      "Attention Masks: (7000, 128)\n",
      "Example 1:\n",
      "Tokenized Input IDs: [ 101 2023 2003 2339 2017 2342 1032 1050 1032 6583 4629 2666 2007 2017\n",
      " 2012 2035 2335  102    0    0    0    0    0    0    0    0    0    0\n",
      "    0    0    0    0    0    0    0    0    0    0    0    0    0    0\n",
      "    0    0    0    0    0    0    0    0    0    0    0    0    0    0\n",
      "    0    0    0    0    0    0    0    0    0    0    0    0    0    0\n",
      "    0    0    0    0    0    0    0    0    0    0    0    0    0    0\n",
      "    0    0    0    0    0    0    0    0    0    0    0    0    0    0\n",
      "    0    0    0    0    0    0    0    0    0    0    0    0    0    0\n",
      "    0    0    0    0    0    0    0    0    0    0    0    0    0    0\n",
      "    0    0]\n",
      "Attention Masks: [1 1 1 1 1 1 1 1 1 1 1 1 1 1 1 1 1 1 0 0 0 0 0 0 0 0 0 0 0 0 0 0 0 0 0 0 0\n",
      " 0 0 0 0 0 0 0 0 0 0 0 0 0 0 0 0 0 0 0 0 0 0 0 0 0 0 0 0 0 0 0 0 0 0 0 0 0\n",
      " 0 0 0 0 0 0 0 0 0 0 0 0 0 0 0 0 0 0 0 0 0 0 0 0 0 0 0 0 0 0 0 0 0 0 0 0 0\n",
      " 0 0 0 0 0 0 0 0 0 0 0 0 0 0 0 0 0]\n",
      "\n",
      "\n",
      "Example 2:\n",
      "Tokenized Input IDs: [  101  2204  2739   999  1032  1050  1032  1050  2532 13471  2378 23564\n",
      "  5603  8486  1011  9350 18115  1998  2019  9541  4095 11106  6683 16506\n",
      "  2072  2031  2042  2207  1032  1050  1032  6583  6199  2121  2086  1997\n",
      "  2108  4895 29427  2135 14620  1999  4238  1010  2027  2024  2437  2037\n",
      "  2126  9689  2067  2000  1996  2866  1012   102     0     0     0     0\n",
      "     0     0     0     0     0     0     0     0     0     0     0     0\n",
      "     0     0     0     0     0     0     0     0     0     0     0     0\n",
      "     0     0     0     0     0     0     0     0     0     0     0     0\n",
      "     0     0     0     0     0     0     0     0     0     0     0     0\n",
      "     0     0     0     0     0     0     0     0     0     0     0     0\n",
      "     0     0     0     0     0     0     0     0]\n",
      "Attention Masks: [1 1 1 1 1 1 1 1 1 1 1 1 1 1 1 1 1 1 1 1 1 1 1 1 1 1 1 1 1 1 1 1 1 1 1 1 1\n",
      " 1 1 1 1 1 1 1 1 1 1 1 1 1 1 1 1 1 1 1 0 0 0 0 0 0 0 0 0 0 0 0 0 0 0 0 0 0\n",
      " 0 0 0 0 0 0 0 0 0 0 0 0 0 0 0 0 0 0 0 0 0 0 0 0 0 0 0 0 0 0 0 0 0 0 0 0 0\n",
      " 0 0 0 0 0 0 0 0 0 0 0 0 0 0 0 0 0]\n",
      "\n",
      "\n",
      "Example 3:\n",
      "Tokenized Input IDs: [ 101 3255 2290 6887 7677 8117 2003 2489  999  102    0    0    0    0\n",
      "    0    0    0    0    0    0    0    0    0    0    0    0    0    0\n",
      "    0    0    0    0    0    0    0    0    0    0    0    0    0    0\n",
      "    0    0    0    0    0    0    0    0    0    0    0    0    0    0\n",
      "    0    0    0    0    0    0    0    0    0    0    0    0    0    0\n",
      "    0    0    0    0    0    0    0    0    0    0    0    0    0    0\n",
      "    0    0    0    0    0    0    0    0    0    0    0    0    0    0\n",
      "    0    0    0    0    0    0    0    0    0    0    0    0    0    0\n",
      "    0    0    0    0    0    0    0    0    0    0    0    0    0    0\n",
      "    0    0]\n",
      "Attention Masks: [1 1 1 1 1 1 1 1 1 1 0 0 0 0 0 0 0 0 0 0 0 0 0 0 0 0 0 0 0 0 0 0 0 0 0 0 0\n",
      " 0 0 0 0 0 0 0 0 0 0 0 0 0 0 0 0 0 0 0 0 0 0 0 0 0 0 0 0 0 0 0 0 0 0 0 0 0\n",
      " 0 0 0 0 0 0 0 0 0 0 0 0 0 0 0 0 0 0 0 0 0 0 0 0 0 0 0 0 0 0 0 0 0 0 0 0 0\n",
      " 0 0 0 0 0 0 0 0 0 0 0 0 0 0 0 0 0]\n",
      "\n",
      "\n"
     ]
    }
   ],
   "source": [
    "# Tokenize and pad\n",
    "input_ids, attention_masks = meme_classifier.tokenize_and_pad(texts)\n",
    "print(\"Tokenized Input IDs:\", input_ids.shape)  \n",
    "print(\"Attention Masks:\", attention_masks.shape)\n",
    "# Display a few examples\n",
    "num_examples = 3\n",
    "for i in range(num_examples): \n",
    "    print(f\"Example {i + 1}:\")\n",
    "    print(\"Tokenized Input IDs:\", input_ids[i])\n",
    "    print(\"Attention Masks:\", attention_masks[i])\n",
    "    print(\"\\n\")"
   ]
  },
  {
   "cell_type": "code",
   "execution_count": 399,
   "id": "1b4eac9f",
   "metadata": {},
   "outputs": [
    {
     "name": "stdout",
     "output_type": "stream",
     "text": [
      "Shapes:\n",
      "X_train: (5600, 128)\n",
      "y_train: (5600, 21)\n",
      "X_val: (700, 128)\n",
      "y_val: (700, 21)\n",
      "Epoch 1/3\n",
      "WARNING:tensorflow:Gradients do not exist for variables ['tf_bert_model_137/bert/pooler/dense/kernel:0', 'tf_bert_model_137/bert/pooler/dense/bias:0'] when minimizing the loss. If you're using `model.compile()`, did you forget to provide a `loss` argument?\n",
      "WARNING:tensorflow:Gradients do not exist for variables ['tf_bert_model_137/bert/pooler/dense/kernel:0', 'tf_bert_model_137/bert/pooler/dense/bias:0'] when minimizing the loss. If you're using `model.compile()`, did you forget to provide a `loss` argument?\n",
      "700/700 [==============================] - 2012s 3s/step - loss: 0.2678 - accuracy: 0.1107 - val_loss: 0.2648 - val_accuracy: 0.1800\n",
      "Epoch 2/3\n",
      "700/700 [==============================] - 2209s 3s/step - loss: 0.2579 - accuracy: 0.1150 - val_loss: 0.2659 - val_accuracy: 0.0943\n",
      "Epoch 3/3\n",
      "700/700 [==============================] - 2178s 3s/step - loss: 0.2546 - accuracy: 0.1302 - val_loss: 0.2915 - val_accuracy: 0.1800\n"
     ]
    }
   ],
   "source": [
    "#train the model\n",
    "history, X_test, attention_masks_test, y_test = meme_classifier.train_model(json_file_path)\n"
   ]
  },
  {
   "cell_type": "code",
   "execution_count": 400,
   "id": "269fecd6",
   "metadata": {},
   "outputs": [
    {
     "data": {
      "image/png": "[encoded data removed]",
      "text/plain": [
       "<Figure size 1000x400 with 2 Axes>"
      ]
     },
     "metadata": {},
     "output_type": "display_data"
    }
   ],
   "source": [
    "#plot the training history\n",
    "meme_classifier.plot_training_history(history)"
   ]
  },
  {
   "cell_type": "code",
   "execution_count": 401,
   "id": "cc0b53dd",
   "metadata": {},
   "outputs": [
    {
     "name": "stdout",
     "output_type": "stream",
     "text": [
      "X_test: (700, 128)\n",
      "y_test: (700, 21)\n",
      "22/22 [==============================] - 74s 3s/step\n"
     ]
    },
    {
     "name": "stderr",
     "output_type": "stream",
     "text": [
      "/Users/jamessmith/Desktop/Desktop/python/miniconda3/lib/python3.10/site-packages/sklearn/preprocessing/_label.py:895: UserWarning: unknown class(es) ['None'] will be ignored\n",
      "  warnings.warn(\n"
     ]
    },
    {
     "ename": "TypeError",
     "evalue": "'>' not supported between instances of 'NoneType' and 'int'",
     "output_type": "error",
     "traceback": [
      "\u001b[0;31m---------------------------------------------------------------------------\u001b[0m",
      "\u001b[0;31mTypeError\u001b[0m                                 Traceback (most recent call last)",
      "Cell \u001b[0;32mIn[401], line 2\u001b[0m\n\u001b[1;32m      1\u001b[0m \u001b[38;5;66;03m# Assuming you have already trained the model and obtained X_test, attention_masks_test, y_test\u001b[39;00m\n\u001b[0;32m----> 2\u001b[0m hierarchical_f1, predicted_labels_all, true_labels_all \u001b[38;5;241m=\u001b[39m \u001b[43mmeme_classifier\u001b[49m\u001b[38;5;241;43m.\u001b[39;49m\u001b[43mevaluate_with_hierarchy\u001b[49m\u001b[43m(\u001b[49m\u001b[43mX_test\u001b[49m\u001b[43m,\u001b[49m\u001b[43m \u001b[49m\u001b[43mattention_masks_test\u001b[49m\u001b[43m,\u001b[49m\u001b[43m \u001b[49m\u001b[43my_test\u001b[49m\u001b[43m)\u001b[49m\n\u001b[1;32m      4\u001b[0m \u001b[38;5;28mprint\u001b[39m(\u001b[38;5;124mf\u001b[39m\u001b[38;5;124m\"\u001b[39m\u001b[38;5;124mAverage Hierarchical F1: \u001b[39m\u001b[38;5;132;01m{\u001b[39;00mhierarchical_f1\u001b[38;5;132;01m}\u001b[39;00m\u001b[38;5;124m\"\u001b[39m)\n\u001b[1;32m      6\u001b[0m \u001b[38;5;66;03m#DataFrame for predicted_labels and true_labels\u001b[39;00m\n",
      "Cell \u001b[0;32mIn[395], line 187\u001b[0m, in \u001b[0;36mMemeClassification.evaluate_with_hierarchy\u001b[0;34m(self, X_test, attention_masks_test, y_test)\u001b[0m\n\u001b[1;32m    185\u001b[0m \u001b[38;5;28;01mif\u001b[39;00m \u001b[38;5;28mset\u001b[39m(predicted_labels)\u001b[38;5;241m.\u001b[39missubset(\u001b[38;5;28mset\u001b[39m(gold_labels)):\n\u001b[1;32m    186\u001b[0m     reward \u001b[38;5;241m=\u001b[39m \u001b[38;5;241m1.0\u001b[39m  \u001b[38;5;66;03m# Full reward\u001b[39;00m\n\u001b[0;32m--> 187\u001b[0m \u001b[38;5;28;01melif\u001b[39;00m \u001b[38;5;28;43many\u001b[39;49m\u001b[43m(\u001b[49m\n\u001b[1;32m    188\u001b[0m \u001b[43m        \u001b[49m\u001b[38;5;28;43mself\u001b[39;49m\u001b[38;5;241;43m.\u001b[39;49m\u001b[43mcalculate_hierarchy_distance\u001b[49m\u001b[43m(\u001b[49m\u001b[43mpredicted_label\u001b[49m\u001b[43m,\u001b[49m\u001b[43m \u001b[49m\u001b[43mgold_label\u001b[49m\u001b[43m)\u001b[49m\u001b[43m \u001b[49m\u001b[38;5;241;43m>\u001b[39;49m\u001b[43m \u001b[49m\u001b[38;5;241;43m0\u001b[39;49m\u001b[43m \u001b[49m\u001b[38;5;28;43;01mfor\u001b[39;49;00m\u001b[43m \u001b[49m\u001b[43mpredicted_label\u001b[49m\u001b[43m \u001b[49m\u001b[38;5;129;43;01min\u001b[39;49;00m\n\u001b[1;32m    189\u001b[0m \u001b[43m        \u001b[49m\u001b[43mpredicted_labels\u001b[49m\u001b[43m \u001b[49m\u001b[38;5;28;43;01mfor\u001b[39;49;00m\u001b[43m \u001b[49m\u001b[43mgold_label\u001b[49m\u001b[43m \u001b[49m\u001b[38;5;129;43;01min\u001b[39;49;00m\u001b[43m \u001b[49m\u001b[43mgold_labels\u001b[49m\u001b[43m)\u001b[49m:\n\u001b[1;32m    190\u001b[0m     reward \u001b[38;5;241m=\u001b[39m \u001b[38;5;241m0.5\u001b[39m  \u001b[38;5;66;03m# Partial reward\u001b[39;00m\n\u001b[1;32m    191\u001b[0m \u001b[38;5;28;01melse\u001b[39;00m:\n",
      "Cell \u001b[0;32mIn[395], line 188\u001b[0m, in \u001b[0;36m<genexpr>\u001b[0;34m(.0)\u001b[0m\n\u001b[1;32m    185\u001b[0m \u001b[38;5;28;01mif\u001b[39;00m \u001b[38;5;28mset\u001b[39m(predicted_labels)\u001b[38;5;241m.\u001b[39missubset(\u001b[38;5;28mset\u001b[39m(gold_labels)):\n\u001b[1;32m    186\u001b[0m     reward \u001b[38;5;241m=\u001b[39m \u001b[38;5;241m1.0\u001b[39m  \u001b[38;5;66;03m# Full reward\u001b[39;00m\n\u001b[1;32m    187\u001b[0m \u001b[38;5;28;01melif\u001b[39;00m \u001b[38;5;28many\u001b[39m(\n\u001b[0;32m--> 188\u001b[0m         \u001b[38;5;28;43mself\u001b[39;49m\u001b[38;5;241;43m.\u001b[39;49m\u001b[43mcalculate_hierarchy_distance\u001b[49m\u001b[43m(\u001b[49m\u001b[43mpredicted_label\u001b[49m\u001b[43m,\u001b[49m\u001b[43m \u001b[49m\u001b[43mgold_label\u001b[49m\u001b[43m)\u001b[49m\u001b[43m \u001b[49m\u001b[38;5;241;43m>\u001b[39;49m\u001b[43m \u001b[49m\u001b[38;5;241;43m0\u001b[39;49m \u001b[38;5;28;01mfor\u001b[39;00m predicted_label \u001b[38;5;129;01min\u001b[39;00m\n\u001b[1;32m    189\u001b[0m         predicted_labels \u001b[38;5;28;01mfor\u001b[39;00m gold_label \u001b[38;5;129;01min\u001b[39;00m gold_labels):\n\u001b[1;32m    190\u001b[0m     reward \u001b[38;5;241m=\u001b[39m \u001b[38;5;241m0.5\u001b[39m  \u001b[38;5;66;03m# Partial reward\u001b[39;00m\n\u001b[1;32m    191\u001b[0m \u001b[38;5;28;01melse\u001b[39;00m:\n",
      "\u001b[0;31mTypeError\u001b[0m: '>' not supported between instances of 'NoneType' and 'int'"
     ]
    }
   ],
   "source": [
    "# Assuming you have already trained the model and obtained X_test, attention_masks_test, y_test\n",
    "hierarchical_f1, predicted_labels_all, true_labels_all = meme_classifier.evaluate_with_hierarchy(X_test, attention_masks_test, y_test)\n",
    "print(f\"Average Hierarchical F1: {hierarchical_f1}\")\n"
   ]
  },
  {
   "cell_type": "code",
   "execution_count": 402,
   "id": "172f7fb2",
   "metadata": {},
   "outputs": [
    {
     "ename": "NameError",
     "evalue": "name 'true_labels_all' is not defined",
     "output_type": "error",
     "traceback": [
      "\u001b[0;31m---------------------------------------------------------------------------\u001b[0m",
      "\u001b[0;31mNameError\u001b[0m                                 Traceback (most recent call last)",
      "Cell \u001b[0;32mIn[402], line 2\u001b[0m\n\u001b[1;32m      1\u001b[0m \u001b[38;5;66;03m#DataFrame for predicted_labels and true_labels\u001b[39;00m\n\u001b[0;32m----> 2\u001b[0m comparison_df \u001b[38;5;241m=\u001b[39m pd\u001b[38;5;241m.\u001b[39mDataFrame({\u001b[38;5;124m'\u001b[39m\u001b[38;5;124mTrue Labels\u001b[39m\u001b[38;5;124m'\u001b[39m: \u001b[43mtrue_labels_all\u001b[49m, \u001b[38;5;124m'\u001b[39m\u001b[38;5;124mPredicted Labels\u001b[39m\u001b[38;5;124m'\u001b[39m: predicted_labels_all})\n\u001b[1;32m      3\u001b[0m \u001b[38;5;28mprint\u001b[39m(comparison_df\u001b[38;5;241m.\u001b[39mhead(\u001b[38;5;241m20\u001b[39m))\n",
      "\u001b[0;31mNameError\u001b[0m: name 'true_labels_all' is not defined"
     ]
    }
   ],
   "source": [
    "\n",
    "#DataFrame for predicted_labels and true_labels\n",
    "comparison_df = pd.DataFrame({'True Labels': true_labels_all, 'Predicted Labels': predicted_labels_all})\n",
    "print(comparison_df.head(20))"
   ]
  },
  {
   "cell_type": "code",
   "execution_count": null,
   "id": "ea5c4e05",
   "metadata": {},
   "outputs": [],
   "source": []
  }
 ],
 "metadata": {
  "kernelspec": {
   "display_name": "Python 3.10 (pytorch)",
   "language": "python",
   "name": "pytorch"
  },
  "language_info": {
   "codemirror_mode": {
    "name": "ipython",
    "version": 3
   },
   "file_extension": ".py",
   "mimetype": "text/x-python",
   "name": "python",
   "nbconvert_exporter": "python",
   "pygments_lexer": "ipython3",
   "version": "3.10.8"
  }
 },
 "nbformat": 4,
 "nbformat_minor": 5
}
